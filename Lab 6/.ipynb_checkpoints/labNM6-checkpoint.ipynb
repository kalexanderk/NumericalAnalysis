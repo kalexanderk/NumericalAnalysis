{
 "cells": [
  {
   "cell_type": "code",
   "execution_count": 2,
   "metadata": {
    "collapsed": true
   },
   "outputs": [],
   "source": [
    "import numpy as np \n",
    "from sympy.solvers import solve\n",
    "from sympy import Symbol, re\n",
    "l = Symbol('lambda')\n",
    "import pdb"
   ]
  },
  {
   "cell_type": "code",
   "execution_count": 6,
   "metadata": {
    "collapsed": false
   },
   "outputs": [
    {
     "name": "stdout",
     "output_type": "stream",
     "text": [
      "Eigenvalues: \n",
      "[ 9.38114919  6.02074842  2.47241469  4.0856877 ]\n",
      "\n",
      "Eigenvectors: \n",
      "[[ 0.58965153  0.77843754 -0.20746804  0.05747249]\n",
      " [ 0.25602053  0.06013783  0.80667063 -0.52926309]\n",
      " [ 0.59424973 -0.53271786 -0.42750033 -0.42464386]\n",
      " [ 0.48335475 -0.32654269  0.35140145  0.7322944 ]]\n"
     ]
    }
   ],
   "source": [
    "A = np.matrix([[7.03, 1.16, 0.91, 1.135],\n",
    "               [1.16, 3.39, 1.30, 0.16],\n",
    "               [0.91, 1.30, 6.21, 2.10],\n",
    "               [1.135, 0.16, 2.10, 5.33]])\n",
    "\n",
    "eigs, eigvs = np.linalg.eig(A) \n",
    "\n",
    "print \"Eigenvalues: \\n\", eigs\n",
    "print\n",
    "print \"Eigenvectors: \\n\", eigvs"
   ]
  },
  {
   "cell_type": "code",
   "execution_count": 7,
   "metadata": {
    "collapsed": true
   },
   "outputs": [],
   "source": [
    "y = []\n",
    "#create rand vector \n",
    "y.append(np.random.normal(size=A.shape[0]))\n",
    "y[0] = y[0].reshape(4,1)\n",
    "#and now from rand vector we created other 3 vectors (Krylov method)\n",
    "for i in range(1,A.shape[0]+1):\n",
    "    y.append(A.dot(y[i-1].reshape(4,1)))"
   ]
  },
  {
   "cell_type": "code",
   "execution_count": 10,
   "metadata": {
    "collapsed": false
   },
   "outputs": [
    {
     "name": "stdout",
     "output_type": "stream",
     "text": [
      "Now we have to solve the equation M*x = -m, where:\n",
      "1) m: \n",
      "[[ 7315.35569953]\n",
      " [ 2888.6538618 ]\n",
      " [ 5923.58619717]\n",
      " [ 4762.13427945]] \n",
      "\n",
      "2) matrix f the system M: \n",
      "[[  1.74332033e+00   1.24181917e+01   9.88285042e+01   8.35191476e+02]\n",
      " [ -3.30372095e-01   2.27318355e+00   3.17604588e+01   3.10893580e+02]\n",
      " [  1.10431080e+00   7.16538018e+00   6.31399971e+01   6.08668066e+02]\n",
      " [ -4.04441754e-01   2.08918718e+00   4.06410230e+01   4.66462672e+02]]\n"
     ]
    }
   ],
   "source": [
    "#last element\n",
    "m = y[-1]\n",
    "#\n",
    "M = np.hstack(y[0:-1:])\n",
    "print \"Now we have to solve the equation M*x = -m, where:\"\n",
    "print \"1) m: \\n\", m, \"\\n\"\n",
    "print \"2) matrix f the system M: \\n\", M"
   ]
  },
  {
   "cell_type": "code",
   "execution_count": 13,
   "metadata": {
    "collapsed": false
   },
   "outputs": [
    {
     "name": "stdout",
     "output_type": "stream",
     "text": [
      "Actually, we solved the equation and now have the results, which by coincidence :) are our parameters\n",
      "of characteristic polynom: \n",
      "p1 =  570.549075532\n",
      "p2 =  -525.994206\n",
      "p3 =  167.590275\n",
      "p4 =  -21.96\n"
     ]
    }
   ],
   "source": [
    "coefs = np.linalg.solve(M,-m)\n",
    "\n",
    "p1,p2,p3,p4 = np.squeeze(np.asarray(coefs))\n",
    "\n",
    "print \"Actually, we solved the equation and now have the results, which by coincidence :) are our parameters\"\n",
    "print \"of characteristic polynom: \"\n",
    "print \"p1 = \", p1\n",
    "print \"p2 = \", p2\n",
    "print \"p3 = \", p3\n",
    "print \"p4 = \", p4\n",
    "\n",
    "p = [p1,p2,p3,p4]"
   ]
  },
  {
   "cell_type": "code",
   "execution_count": 14,
   "metadata": {
    "collapsed": false,
    "scrolled": true
   },
   "outputs": [
    {
     "name": "stdout",
     "output_type": "stream",
     "text": [
      "Yeeeah, eventually solving that equation! :)\n"
     ]
    }
   ],
   "source": [
    "print \"Yeeeah, eventually solving that equation! :)\"\n",
    "eigvals = map(re, solve(l**4 + p4*l**3 + p3*l**2 + p2*l + p1, l))"
   ]
  },
  {
   "cell_type": "markdown",
   "metadata": {},
   "source": [
    "So we are trying to find eigenvalues:"
   ]
  },
  {
   "cell_type": "code",
   "execution_count": 15,
   "metadata": {
    "collapsed": false
   },
   "outputs": [
    {
     "name": "stdout",
     "output_type": "stream",
     "text": [
      "Eigenvalues (Krylov method): \n",
      "[2.47241469431624, 4.08568770002531, 6.02074841751810, 9.38114918814035]\n"
     ]
    }
   ],
   "source": [
    "print \"Eigenvalues (Krylov method): \\n\", eigvals"
   ]
  },
  {
   "cell_type": "code",
   "execution_count": 16,
   "metadata": {
    "collapsed": true
   },
   "outputs": [],
   "source": [
    "#define the function for finding eigenvectors by eigenvalues\n",
    "def vec(M, lmd):\n",
    "    g3 = np.random.randn()\n",
    "    g2 = (lmd+p4)*g3\n",
    "    g1 = lmd*g2 + p3*g3\n",
    "    g0 = lmd*g1+ p2*g3\n",
    "    print lmd * g0 + p1 * g3 < 1e-5\n",
    "    return M[:,0]*g0 +  M[:,1]*g1 + M[:,2]*g2 + M[:,3]*g3"
   ]
  },
  {
   "cell_type": "markdown",
   "metadata": {},
   "source": [
    "And are finding eigenvectors!"
   ]
  },
  {
   "cell_type": "code",
   "execution_count": 22,
   "metadata": {
    "collapsed": false,
    "scrolled": true
   },
   "outputs": [
    {
     "name": "stdout",
     "output_type": "stream",
     "text": [
      "True\n",
      "Eigenvector (Krylov method) # 1 :\n",
      "[[-0.20746804]\n",
      " [ 0.80667063]\n",
      " [-0.42750033]\n",
      " [ 0.35140145]]\n",
      "True\n",
      "Eigenvector (Krylov method) # 2 :\n",
      "[[ 0.05747249]\n",
      " [-0.52926309]\n",
      " [-0.42464386]\n",
      " [ 0.7322944 ]]\n",
      "True\n",
      "Eigenvector (Krylov method) # 3 :\n",
      "[[ 0.77843754]\n",
      " [ 0.06013783]\n",
      " [-0.53271786]\n",
      " [-0.32654269]]\n",
      "True\n",
      "Eigenvector (Krylov method) # 4 :\n",
      "[[-0.58965153]\n",
      " [-0.25602053]\n",
      " [-0.59424973]\n",
      " [-0.48335475]]\n"
     ]
    }
   ],
   "source": [
    "eigenvectors_krylov=[None for x in range(len(eigvals))]\n",
    "for i in range(len(eigvals)):\n",
    "    eigenvectors_krylov[i]=vec(M, float(eigvals[i]))\n",
    "    eigenvectors_krylov[i]= eigenvectors_krylov[i]/np.linalg.norm( eigenvectors_krylov[i])\n",
    "    print \"Eigenvector (Krylov method) #\", i+1,\":\\n\", eigenvectors_krylov[i]\n"
   ]
  },
  {
   "cell_type": "raw",
   "metadata": {},
   "source": [
    "Start of using POWER METHOD\n",
    "He-he, finally :)"
   ]
  },
  {
   "cell_type": "code",
   "execution_count": 25,
   "metadata": {
    "collapsed": false
   },
   "outputs": [
    {
     "name": "stdout",
     "output_type": "stream",
     "text": [
      "Number of iterations:  33\n",
      "\n",
      "Lambda max: \n",
      "9.38114918807\n",
      "\n",
      "Eigenvector for lambda max: \n",
      "[[-0.589654  ]\n",
      " [-0.25602072]\n",
      " [-0.59424804]\n",
      " [-0.48335371]]\n",
      "\n",
      "Residual vector: \n",
      "[[  8.31585555e-06]\n",
      " [  6.42413404e-07]\n",
      " [ -5.69096770e-06]\n",
      " [ -3.48841012e-06]]\n"
     ]
    }
   ],
   "source": [
    "#max lambda\n",
    "\n",
    "def compute_high(Z, count):\n",
    "    v_max = np.random.randn(Z.shape[0]).reshape(Z.shape[0],1)\n",
    "    lmd_max = 0\n",
    "    for i in xrange(200000):\n",
    "        count+=1\n",
    "        if (np.abs((Z - np.eye(Z.shape[0]) * lmd_max).dot(v_max)) < 1e-5).all():\n",
    "            break\n",
    "        chi = Z.dot(v_max)\n",
    "        lmd_max = np.linalg.norm(chi)/np.linalg.norm(v_max)\n",
    "        v_max  = chi / np.linalg.norm(chi) \n",
    "    #defining whether lambda will be <0 or >0        \n",
    "    if (np.abs(Z.dot(v_max) - np.abs(lmd_max)*v_max) < 1e-5).all():\n",
    "        lmd_max = np.abs(lmd_max)\n",
    "    else:\n",
    "        lmd_max = - np.abs(lmd_max)\n",
    "    return (lmd_max, v_max, count)\n",
    "\n",
    "lmd_max, v_max, count = compute_high(A, 0)\n",
    "\n",
    "print 'Number of iterations: ', count\n",
    "print\n",
    "print \"Lambda max: \\n\", lmd_max\n",
    "print\n",
    "print \"Eigenvector for lambda max: \\n\", v_max\n",
    "print\n",
    "print \"Residual vector: \\n\", A*v_max - lmd_max*v_max"
   ]
  },
  {
   "cell_type": "code",
   "execution_count": 26,
   "metadata": {
    "collapsed": false
   },
   "outputs": [
    {
     "name": "stdout",
     "output_type": "stream",
     "text": [
      "Number of iterations:  200000\n",
      "\n",
      "Lambda min: \n",
      "2.47241469432\n",
      "\n",
      "Eigenvector for lambda min: \n",
      "[[ 0.20746804]\n",
      " [-0.80667063]\n",
      " [ 0.42750033]\n",
      " [-0.35140145]]\n",
      "\n",
      "Residual vector: \n",
      "[[ -1.11022302e-16]\n",
      " [  1.11022302e-15]\n",
      " [  2.22044605e-16]\n",
      " [ -1.11022302e-16]]\n"
     ]
    }
   ],
   "source": [
    "#low lambda\n",
    "B = A - np.eye(A.shape[0])*lmd_max\n",
    "lmd_B, v_min, count = compute_high(B, 0)\n",
    "\n",
    "\n",
    "lmd_min = lmd_B + lmd_max\n",
    "\n",
    "print 'Number of iterations: ', count\n",
    "print\n",
    "print \"Lambda min: \\n\", lmd_min\n",
    "print\n",
    "print \"Eigenvector for lambda min: \\n\", v_min\n",
    "print\n",
    "print \"Residual vector: \\n\", A*v_min-lmd_min*v_min"
   ]
  }
 ],
 "metadata": {
  "kernelspec": {
   "display_name": "Python [Root]",
   "language": "python",
   "name": "Python [Root]"
  },
  "language_info": {
   "codemirror_mode": {
    "name": "ipython",
    "version": 2
   },
   "file_extension": ".py",
   "mimetype": "text/x-python",
   "name": "python",
   "nbconvert_exporter": "python",
   "pygments_lexer": "ipython2",
   "version": "2.7.12"
  }
 },
 "nbformat": 4,
 "nbformat_minor": 0
}
